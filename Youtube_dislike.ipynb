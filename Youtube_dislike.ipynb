{
 "cells": [
  {
   "cell_type": "markdown",
   "id": "1b3ef0a8",
   "metadata": {},
   "source": [
    "### 1. Import required libraries and read the provided dataset (youtube_dislike_dataset.csv) and retrieve top5 and bottom 5 records."
   ]
  },
  {
   "cell_type": "code",
   "execution_count": 1,
   "id": "9ba27e24",
   "metadata": {},
   "outputs": [],
   "source": [
    "import pandas as pd\n",
    "import numpy as np"
   ]
  },
  {
   "cell_type": "code",
   "execution_count": 2,
   "id": "1c86d281",
   "metadata": {},
   "outputs": [],
   "source": [
    "df= pd.read_csv(r\"C:\\Users\\ASUS\\Downloads\\youtube_dislike.csv\")"
   ]
  },
  {
   "cell_type": "code",
   "execution_count": 3,
   "id": "e580d379",
   "metadata": {},
   "outputs": [
    {
     "data": {
      "text/html": [
       "<div>\n",
       "<style scoped>\n",
       "    .dataframe tbody tr th:only-of-type {\n",
       "        vertical-align: middle;\n",
       "    }\n",
       "\n",
       "    .dataframe tbody tr th {\n",
       "        vertical-align: top;\n",
       "    }\n",
       "\n",
       "    .dataframe thead th {\n",
       "        text-align: right;\n",
       "    }\n",
       "</style>\n",
       "<table border=\"1\" class=\"dataframe\">\n",
       "  <thead>\n",
       "    <tr style=\"text-align: right;\">\n",
       "      <th></th>\n",
       "      <th>video_id</th>\n",
       "      <th>title</th>\n",
       "      <th>channel_id</th>\n",
       "      <th>channel_title</th>\n",
       "      <th>published_at</th>\n",
       "      <th>view_count</th>\n",
       "      <th>likes</th>\n",
       "      <th>dislikes</th>\n",
       "      <th>comment_count</th>\n",
       "      <th>tags</th>\n",
       "      <th>description</th>\n",
       "      <th>comments</th>\n",
       "    </tr>\n",
       "  </thead>\n",
       "  <tbody>\n",
       "    <tr>\n",
       "      <th>0</th>\n",
       "      <td>--0bCF-iK2E</td>\n",
       "      <td>Jadon Sancho  Magical Skills &amp; Goals</td>\n",
       "      <td>UC6UL29enLNe4mqwTfAyeNuw</td>\n",
       "      <td>Bundesliga</td>\n",
       "      <td>2021-07-01 10:00:00</td>\n",
       "      <td>1048888</td>\n",
       "      <td>19515</td>\n",
       "      <td>226</td>\n",
       "      <td>1319</td>\n",
       "      <td>football soccer ftbol alemn Bundesliga season ...</td>\n",
       "      <td>Enjoy the best skills and goals from Jadon San...</td>\n",
       "      <td>Respect to Dortmund fans,must be sad losing hi...</td>\n",
       "    </tr>\n",
       "    <tr>\n",
       "      <th>1</th>\n",
       "      <td>--14w5SOEUs</td>\n",
       "      <td>Migos - Avalanche (Official Video)</td>\n",
       "      <td>UCGIelM2Dj3zza3xyV3pL3WQ</td>\n",
       "      <td>MigosVEVO</td>\n",
       "      <td>2021-06-10 16:00:00</td>\n",
       "      <td>15352638</td>\n",
       "      <td>359277</td>\n",
       "      <td>7479</td>\n",
       "      <td>18729</td>\n",
       "      <td>Migos Avalanche Quality Control Music/Motown R...</td>\n",
       "      <td>Watch the the official video for Migos - \"Aval...</td>\n",
       "      <td>Migos just makes me want to live my live to th...</td>\n",
       "    </tr>\n",
       "    <tr>\n",
       "      <th>2</th>\n",
       "      <td>--40TEbZ9Is</td>\n",
       "      <td>Supporting Actress in a Comedy: 73rd Emmys</td>\n",
       "      <td>UClBKH8yZRcM4AsRjDVEdjMg</td>\n",
       "      <td>Television Academy</td>\n",
       "      <td>2021-09-20 01:03:32</td>\n",
       "      <td>925281</td>\n",
       "      <td>11212</td>\n",
       "      <td>401</td>\n",
       "      <td>831</td>\n",
       "      <td></td>\n",
       "      <td>Hannah Waddingham wins the Emmy for Supporting...</td>\n",
       "      <td>Hannah's energy bursts through any screen. Wel...</td>\n",
       "    </tr>\n",
       "    <tr>\n",
       "      <th>3</th>\n",
       "      <td>--4tfbSyYDE</td>\n",
       "      <td>JO1'YOUNG (JO1 ver.)' PERFORMANCE VIDEO</td>\n",
       "      <td>UCsmXiDP8S40uBeJYxvyulmA</td>\n",
       "      <td>JO1</td>\n",
       "      <td>2021-03-03 10:00:17</td>\n",
       "      <td>2641597</td>\n",
       "      <td>39131</td>\n",
       "      <td>441</td>\n",
       "      <td>3745</td>\n",
       "      <td>PRODUCE101JAPAN              JO1   TheSTAR STA...</td>\n",
       "      <td>JO1'YOUNG (JO1 ver.)' PERFORMANCE VIDEO\\n\\n---...</td>\n",
       "      <td>youngVer&gt;&lt;  REN is really PERFECT. It's not ju...</td>\n",
       "    </tr>\n",
       "    <tr>\n",
       "      <th>4</th>\n",
       "      <td>--DKkzWVh-E</td>\n",
       "      <td>Why Retaining Walls Collapse</td>\n",
       "      <td>UCMOqf8ab-42UUQIdVoKwjlQ</td>\n",
       "      <td>Practical Engineering</td>\n",
       "      <td>2021-12-07 13:00:00</td>\n",
       "      <td>715724</td>\n",
       "      <td>32887</td>\n",
       "      <td>367</td>\n",
       "      <td>1067</td>\n",
       "      <td>retaining wall New Jersey highway Direct Conne...</td>\n",
       "      <td>One of the most important (and innocuous) part...</td>\n",
       "      <td>Keep up with all my projects here: https://pr...</td>\n",
       "    </tr>\n",
       "  </tbody>\n",
       "</table>\n",
       "</div>"
      ],
      "text/plain": [
       "      video_id                                       title  \\\n",
       "0  --0bCF-iK2E        Jadon Sancho  Magical Skills & Goals   \n",
       "1  --14w5SOEUs          Migos - Avalanche (Official Video)   \n",
       "2  --40TEbZ9Is  Supporting Actress in a Comedy: 73rd Emmys   \n",
       "3  --4tfbSyYDE     JO1'YOUNG (JO1 ver.)' PERFORMANCE VIDEO   \n",
       "4  --DKkzWVh-E                Why Retaining Walls Collapse   \n",
       "\n",
       "                 channel_id          channel_title         published_at  \\\n",
       "0  UC6UL29enLNe4mqwTfAyeNuw             Bundesliga  2021-07-01 10:00:00   \n",
       "1  UCGIelM2Dj3zza3xyV3pL3WQ              MigosVEVO  2021-06-10 16:00:00   \n",
       "2  UClBKH8yZRcM4AsRjDVEdjMg     Television Academy  2021-09-20 01:03:32   \n",
       "3  UCsmXiDP8S40uBeJYxvyulmA                    JO1  2021-03-03 10:00:17   \n",
       "4  UCMOqf8ab-42UUQIdVoKwjlQ  Practical Engineering  2021-12-07 13:00:00   \n",
       "\n",
       "   view_count   likes  dislikes  comment_count  \\\n",
       "0     1048888   19515       226           1319   \n",
       "1    15352638  359277      7479          18729   \n",
       "2      925281   11212       401            831   \n",
       "3     2641597   39131       441           3745   \n",
       "4      715724   32887       367           1067   \n",
       "\n",
       "                                                tags  \\\n",
       "0  football soccer ftbol alemn Bundesliga season ...   \n",
       "1  Migos Avalanche Quality Control Music/Motown R...   \n",
       "2                                                      \n",
       "3  PRODUCE101JAPAN              JO1   TheSTAR STA...   \n",
       "4  retaining wall New Jersey highway Direct Conne...   \n",
       "\n",
       "                                         description  \\\n",
       "0  Enjoy the best skills and goals from Jadon San...   \n",
       "1  Watch the the official video for Migos - \"Aval...   \n",
       "2  Hannah Waddingham wins the Emmy for Supporting...   \n",
       "3  JO1'YOUNG (JO1 ver.)' PERFORMANCE VIDEO\\n\\n---...   \n",
       "4  One of the most important (and innocuous) part...   \n",
       "\n",
       "                                            comments  \n",
       "0  Respect to Dortmund fans,must be sad losing hi...  \n",
       "1  Migos just makes me want to live my live to th...  \n",
       "2  Hannah's energy bursts through any screen. Wel...  \n",
       "3  youngVer><  REN is really PERFECT. It's not ju...  \n",
       "4   Keep up with all my projects here: https://pr...  "
      ]
     },
     "execution_count": 3,
     "metadata": {},
     "output_type": "execute_result"
    }
   ],
   "source": [
    "df.head(5)"
   ]
  },
  {
   "cell_type": "code",
   "execution_count": 4,
   "id": "3bc63984",
   "metadata": {},
   "outputs": [
    {
     "data": {
      "text/html": [
       "<div>\n",
       "<style scoped>\n",
       "    .dataframe tbody tr th:only-of-type {\n",
       "        vertical-align: middle;\n",
       "    }\n",
       "\n",
       "    .dataframe tbody tr th {\n",
       "        vertical-align: top;\n",
       "    }\n",
       "\n",
       "    .dataframe thead th {\n",
       "        text-align: right;\n",
       "    }\n",
       "</style>\n",
       "<table border=\"1\" class=\"dataframe\">\n",
       "  <thead>\n",
       "    <tr style=\"text-align: right;\">\n",
       "      <th></th>\n",
       "      <th>video_id</th>\n",
       "      <th>title</th>\n",
       "      <th>channel_id</th>\n",
       "      <th>channel_title</th>\n",
       "      <th>published_at</th>\n",
       "      <th>view_count</th>\n",
       "      <th>likes</th>\n",
       "      <th>dislikes</th>\n",
       "      <th>comment_count</th>\n",
       "      <th>tags</th>\n",
       "      <th>description</th>\n",
       "      <th>comments</th>\n",
       "    </tr>\n",
       "  </thead>\n",
       "  <tbody>\n",
       "    <tr>\n",
       "      <th>37417</th>\n",
       "      <td>zzd4ydafGR0</td>\n",
       "      <td>Lil Tjay - Calling My Phone (feat. 6LACK) [Off...</td>\n",
       "      <td>UCEB4a5o_6KfjxHwNMnmj54Q</td>\n",
       "      <td>Lil Tjay</td>\n",
       "      <td>2021-02-12 05:03:49</td>\n",
       "      <td>120408275</td>\n",
       "      <td>2180780</td>\n",
       "      <td>35871</td>\n",
       "      <td>81360</td>\n",
       "      <td>Lil Tjay Steady Calling My Phone Calling My Ph...</td>\n",
       "      <td>Official video for \"Calling My Phone\" by Lil T...</td>\n",
       "      <td>'DESTINED 2 WIN' OUT NOW !! https://liltjay.ln...</td>\n",
       "    </tr>\n",
       "    <tr>\n",
       "      <th>37418</th>\n",
       "      <td>zziBybeSAtw</td>\n",
       "      <td>PELICANS at LAKERS | FULL GAME HIGHLIGHTS | Ja...</td>\n",
       "      <td>UCWJ2lWNubArHWmf3FIHbfcQ</td>\n",
       "      <td>NBA</td>\n",
       "      <td>2021-01-16 05:39:05</td>\n",
       "      <td>2841917</td>\n",
       "      <td>20759</td>\n",
       "      <td>1049</td>\n",
       "      <td>2624</td>\n",
       "      <td>NBA G League Basketball game-0022000187 Lakers...</td>\n",
       "      <td>PELICANS at LAKERS | FULL GAME HIGHLIGHTS | Ja...</td>\n",
       "      <td>Montrezl Harrell is going crazy with the rebou...</td>\n",
       "    </tr>\n",
       "    <tr>\n",
       "      <th>37419</th>\n",
       "      <td>zzk09ESX7e0</td>\n",
       "      <td>[MV]  (MAMAMOO) - Where Are We Now</td>\n",
       "      <td>UCuhAUMLzJxlP1W7mEk0_6lA</td>\n",
       "      <td>MAMAMOO</td>\n",
       "      <td>2021-06-02 09:00:10</td>\n",
       "      <td>13346678</td>\n",
       "      <td>720854</td>\n",
       "      <td>4426</td>\n",
       "      <td>90616</td>\n",
       "      <td>MAMAMOO  WAW  WAW MAMAMOO WAW Where Are We Now...</td>\n",
       "      <td>[MV]  (MAMAMOO) - Where Are We Now\\n\\nInstagra...</td>\n",
       "      <td>I honestly do not know why this song hit so ha...</td>\n",
       "    </tr>\n",
       "    <tr>\n",
       "      <th>37420</th>\n",
       "      <td>zzmQEb0Em5I</td>\n",
       "      <td>FELLIPE ESCUDERO- Master Podcast  #12</td>\n",
       "      <td>UC8NjnNWMsRqq11NYvHAQb1g</td>\n",
       "      <td>Master Podcast</td>\n",
       "      <td>2020-10-20 20:59:30</td>\n",
       "      <td>252057</td>\n",
       "      <td>19198</td>\n",
       "      <td>1234</td>\n",
       "      <td>1471</td>\n",
       "      <td>master masterpodcast lord lord vinheteiro z z ...</td>\n",
       "      <td>DOCTOR HAIR\\nhttps://www.thedoctorhair.com/?fb...</td>\n",
       "      <td>Foi um prazer passar esta tarde com vocs debat...</td>\n",
       "    </tr>\n",
       "    <tr>\n",
       "      <th>37421</th>\n",
       "      <td>zzxPZwaA-8w</td>\n",
       "      <td>Gareth Bale brace secures dramatic comeback on...</td>\n",
       "      <td>UCEg25rdRZXg32iwai6N6l0w</td>\n",
       "      <td>Tottenham Hotspur</td>\n",
       "      <td>2021-05-23 21:00:31</td>\n",
       "      <td>2252090</td>\n",
       "      <td>34063</td>\n",
       "      <td>868</td>\n",
       "      <td>2004</td>\n",
       "      <td>Spurs Tottenham Hotspur   Tottenham Leicester ...</td>\n",
       "      <td>Two minute highlights from Tottenham Hotspur's...</td>\n",
       "      <td>Thank you Kane for everything you have given t...</td>\n",
       "    </tr>\n",
       "  </tbody>\n",
       "</table>\n",
       "</div>"
      ],
      "text/plain": [
       "          video_id                                              title  \\\n",
       "37417  zzd4ydafGR0  Lil Tjay - Calling My Phone (feat. 6LACK) [Off...   \n",
       "37418  zziBybeSAtw  PELICANS at LAKERS | FULL GAME HIGHLIGHTS | Ja...   \n",
       "37419  zzk09ESX7e0                 [MV]  (MAMAMOO) - Where Are We Now   \n",
       "37420  zzmQEb0Em5I              FELLIPE ESCUDERO- Master Podcast  #12   \n",
       "37421  zzxPZwaA-8w  Gareth Bale brace secures dramatic comeback on...   \n",
       "\n",
       "                     channel_id      channel_title         published_at  \\\n",
       "37417  UCEB4a5o_6KfjxHwNMnmj54Q           Lil Tjay  2021-02-12 05:03:49   \n",
       "37418  UCWJ2lWNubArHWmf3FIHbfcQ                NBA  2021-01-16 05:39:05   \n",
       "37419  UCuhAUMLzJxlP1W7mEk0_6lA            MAMAMOO  2021-06-02 09:00:10   \n",
       "37420  UC8NjnNWMsRqq11NYvHAQb1g     Master Podcast  2020-10-20 20:59:30   \n",
       "37421  UCEg25rdRZXg32iwai6N6l0w  Tottenham Hotspur  2021-05-23 21:00:31   \n",
       "\n",
       "       view_count    likes  dislikes  comment_count  \\\n",
       "37417   120408275  2180780     35871          81360   \n",
       "37418     2841917    20759      1049           2624   \n",
       "37419    13346678   720854      4426          90616   \n",
       "37420      252057    19198      1234           1471   \n",
       "37421     2252090    34063       868           2004   \n",
       "\n",
       "                                                    tags  \\\n",
       "37417  Lil Tjay Steady Calling My Phone Calling My Ph...   \n",
       "37418  NBA G League Basketball game-0022000187 Lakers...   \n",
       "37419  MAMAMOO  WAW  WAW MAMAMOO WAW Where Are We Now...   \n",
       "37420  master masterpodcast lord lord vinheteiro z z ...   \n",
       "37421  Spurs Tottenham Hotspur   Tottenham Leicester ...   \n",
       "\n",
       "                                             description  \\\n",
       "37417  Official video for \"Calling My Phone\" by Lil T...   \n",
       "37418  PELICANS at LAKERS | FULL GAME HIGHLIGHTS | Ja...   \n",
       "37419  [MV]  (MAMAMOO) - Where Are We Now\\n\\nInstagra...   \n",
       "37420  DOCTOR HAIR\\nhttps://www.thedoctorhair.com/?fb...   \n",
       "37421  Two minute highlights from Tottenham Hotspur's...   \n",
       "\n",
       "                                                comments  \n",
       "37417  'DESTINED 2 WIN' OUT NOW !! https://liltjay.ln...  \n",
       "37418  Montrezl Harrell is going crazy with the rebou...  \n",
       "37419  I honestly do not know why this song hit so ha...  \n",
       "37420  Foi um prazer passar esta tarde com vocs debat...  \n",
       "37421  Thank you Kane for everything you have given t...  "
      ]
     },
     "execution_count": 4,
     "metadata": {},
     "output_type": "execute_result"
    }
   ],
   "source": [
    "df.tail(5)"
   ]
  },
  {
   "cell_type": "markdown",
   "id": "ffd578cf",
   "metadata": {},
   "source": [
    "### 2. Check the info of the dataframe and write your inferences on data types and shape of the dataset.\n"
   ]
  },
  {
   "cell_type": "code",
   "execution_count": 5,
   "id": "53c0d6f1",
   "metadata": {},
   "outputs": [
    {
     "data": {
      "text/plain": [
       "(37422, 12)"
      ]
     },
     "execution_count": 5,
     "metadata": {},
     "output_type": "execute_result"
    }
   ],
   "source": [
    "df.shape"
   ]
  },
  {
   "cell_type": "code",
   "execution_count": 6,
   "id": "ee8eec84",
   "metadata": {},
   "outputs": [
    {
     "name": "stdout",
     "output_type": "stream",
     "text": [
      "<class 'pandas.core.frame.DataFrame'>\n",
      "RangeIndex: 37422 entries, 0 to 37421\n",
      "Data columns (total 12 columns):\n",
      " #   Column         Non-Null Count  Dtype \n",
      "---  ------         --------------  ----- \n",
      " 0   video_id       37422 non-null  object\n",
      " 1   title          37422 non-null  object\n",
      " 2   channel_id     37422 non-null  object\n",
      " 3   channel_title  37422 non-null  object\n",
      " 4   published_at   37422 non-null  object\n",
      " 5   view_count     37422 non-null  int64 \n",
      " 6   likes          37422 non-null  int64 \n",
      " 7   dislikes       37422 non-null  int64 \n",
      " 8   comment_count  37422 non-null  int64 \n",
      " 9   tags           37422 non-null  object\n",
      " 10  description    37422 non-null  object\n",
      " 11  comments       37264 non-null  object\n",
      "dtypes: int64(4), object(8)\n",
      "memory usage: 3.4+ MB\n"
     ]
    }
   ],
   "source": [
    "df.info()"
   ]
  },
  {
   "cell_type": "markdown",
   "id": "19a925e6",
   "metadata": {},
   "source": [
    " The comments column has some missing values beacuse there are 37422 total entries but in comments having less than required entries.\n",
    "The Dataset have total 37422 rows and 12 columns"
   ]
  },
  {
   "cell_type": "markdown",
   "id": "6b766bb8",
   "metadata": {},
   "source": [
    "### 3. Check for the Percentage of the missing values and drop or impute them."
   ]
  },
  {
   "cell_type": "code",
   "execution_count": 7,
   "id": "68d444a2",
   "metadata": {},
   "outputs": [
    {
     "data": {
      "text/plain": [
       "video_id           0\n",
       "title              0\n",
       "channel_id         0\n",
       "channel_title      0\n",
       "published_at       0\n",
       "view_count         0\n",
       "likes              0\n",
       "dislikes           0\n",
       "comment_count      0\n",
       "tags               0\n",
       "description        0\n",
       "comments         158\n",
       "dtype: int64"
      ]
     },
     "execution_count": 7,
     "metadata": {},
     "output_type": "execute_result"
    }
   ],
   "source": [
    "df.isna().sum()  ## there are 158 blank values in comments"
   ]
  },
  {
   "cell_type": "code",
   "execution_count": 8,
   "id": "784c7e7e",
   "metadata": {},
   "outputs": [],
   "source": [
    "pct = df.isna().sum() / len(df)\n",
    "pct/=pct.sum()"
   ]
  },
  {
   "cell_type": "code",
   "execution_count": 9,
   "id": "22c793cb",
   "metadata": {},
   "outputs": [
    {
     "data": {
      "text/plain": [
       "video_id         0.0\n",
       "title            0.0\n",
       "channel_id       0.0\n",
       "channel_title    0.0\n",
       "published_at     0.0\n",
       "view_count       0.0\n",
       "likes            0.0\n",
       "dislikes         0.0\n",
       "comment_count    0.0\n",
       "tags             0.0\n",
       "description      0.0\n",
       "comments         1.0\n",
       "dtype: float64"
      ]
     },
     "execution_count": 9,
     "metadata": {},
     "output_type": "execute_result"
    }
   ],
   "source": [
    "pct\n"
   ]
  },
  {
   "cell_type": "code",
   "execution_count": 10,
   "id": "b98d0829",
   "metadata": {},
   "outputs": [
    {
     "data": {
      "text/plain": [
       "array([\"Respect to Dortmund fans,must be sad losing him. wish him well in manchester united A real talent, hope he doesn't turn into another Kagawa or Mkhitaryan Cant wait for him to kiss the badge in front of the Etihad I'll miss him at Borussia Dortmund but at the same time it's Manchester United, can't wait to see him shine at Old Trafford. Hes a generational talent, regardless of his situation with England. Hes gonna light the prem up differently  What a spell in the Bundesliga, Goodluck in the future Jadon Sancho Hands up to the bundesliga created a top young talent who will hopefully continue to spread talent in the premier league  This was a nice tribute by the Bundesliga to Sancho Southgate isnt treating him nicely , he should play him more... Hope he does well at Manchester.  He's been great for Dortmund and I admire the way he's conducted himself during the transfer.  He didn't do us dirty and phone it in, and that shows class. One of the most talented players Bundesliga has ever seen. Sancho is fantastic Thank you for your service to Dortmund Jaden Sancho!! Good Luck at Manchester United I'm sure you are going to be great ;) Thank you for the memories Jadon, we'll miss you!  This guy has some serious skills The amount of opportunities he creates is ridiculous. Goal and Shot creating actions tell you who can and cant be a motor of a team. Hes definitely one of the ones who can be a motor, reminds me of a basketball Point Guard or Hockey Centerhes gonna be good for a while . The chemistry between sancho,haaland and reus was wonderful going to miss the trio His arrival excites me, fans of Borussia Dortmund, we will take good care of Jadon Sancho, how great Borussia Dortmund is  Good luck at Manchester United. Hland Will be sad when he leaves Dortmund Massive, massive talent. I've wanted him for a very long time. Thank you for his development, Dortmund. We'll take it from here.\",\n",
       "       \"Migos just makes me want to live my live to the fullest The amount of swag these 3 possess is unmatched. Money cant buy shit like that  I LOVE THIS!! I LISTEN TO THIS ALMOST EVERYDAY!!! SO ORIGINAL..SO AUTHENTIC YALL DID YOUR THING ON THIS!! SO DOPE!!! i love take off said MOMMA I can't stop listening to this BANGER. Thank you MIGOS & producers!!!!  Migos is one of the most inspirational music groups of all time. They always go so damn hard and I love it. Flows and beats always on point I dont think this generation knows how powerful this song is just by using a Temptation sample.. pure gold KEEP PRODUCING AMAZING MUSIC. PLEASE NEVER STOP! This song makes me so driven to beat the odds, no matter what.....MOMMA! I know your in heaven watching over me. We got this  Gotta keep doing more songs with live music. Shit is too dope. That shit was mad fire! This song solidified Migos as Trap Legendz  I'm on the road back home from vacation. The migos is what we been jammin to. My son almost 30 put me on to them. This temptation music sounds good. I'm 53 and love the migos.  My 3 grandsons 2 eight 1 three years old. You men are going to go down in history as music legends. Greatest Group in the World. I hope to go to one of your concerts soon... Good to see Migos going back to their roots, autotune minimal, sick rap song the beat drops , from the back , from the back we enjoy it \\nmost underrated moment in the song , Quavo goat The Temptations sample behind the beat takes this song to another level. Come on now.... 49 years young and I'm loving this one... Culture  Amazing start to the album, and the visual is fire. They all showed up for this one. They came a long way  keep the heat coming Ive come to really appreciate this song from the verse to the beat\",\n",
       "       'Hannah\\'s energy bursts through any screen. Well deserved! Hannah looking straight into Jason\\'s eyes saying \"You\\'ve changed my life\" and Jason getting tears in his eyes. Beautiful moment.  I get that she isn\\'t a nobody, but to see someone who has toiled away for years performing her art and to finally get some recognition, is very awe-inspiring. She might have gone her whole career in the theatre and been a theatre legend, but she would have never gotten the fame and respect she deserves. That was the shortest episode of Ted Lasso I have ever seen but just as touching, funny, and gracious. What a class act. My heart is full. Theres no Rebecca without Keeley god, my tears I love them  So glad she won. She\\'s so talented and down to earth, andsuperficiallyI must find out what her products are because her skin looks amazing. Everyone who won for Ted Lasso was awesome, this in particular was such a wonderful and humble speech. Hannah is such a powerhouse actress, she definitely deserves the win but to know she takes some of her strength from her co-stars and credits them accordingly just goes to show you how fantastic she is. You can tell how grateful she is and how happy she is to be there. I hope there are more Emmys in her future You can tell Juno is not even that upset that she didn\\'t win. That\\'s the kind of team Ted Lasso inspires. That near-10 second hug Hannah and Juno shared is the only evidence you need of their friendship. For those who may not know, Hannah Waddinghams reputation was founded in Londons West End stage musicals. I first saw her back in 2000 in Andrew Lloyd Webbers The Beautiful Game. You can find her on YouTube singing Our Kind of Love from that show, in which she was sensational, the show itself less so. She has a terrific voice. Give it a listen. I feel like she really didnt expect this and I love that, shes so cool \"Omg im givin a speech at the emmys\" you just feel her raw excitement!! Her blonde hair, hair do, skin tone, toned arms, toned bod, clenched waist & that baby pastel pink on her, she looked so elegant, statuesque, regal ,flowing tower of a woman. Beautifully gorgeous. Good win She deserves that win. So glad to see her. Last time I saw her was in The Mirror Crackd on Acorntv. I said to myself why dont we see this actress more often. Genuinely won this prize. So happy for her. For years she was theatres best kept secret, now the entire world knows the glory that is Hannah Waddingham. BTW that\\'s Waddingham not Waddington Seth  Best speech of the night! Hannah seems like such a luminous person. I wish her the best. This is the kind of speech we love. genuine funny passionate. you can tell she really wasnt expecting it. I dont react much to most things but I smiled so hard at this. The genuine love she has for Juno and Jason, everyone she mentioned, wow :) Hannah\\'s energy bursts through any screen. Well deserved!',\n",
       "       ...,\n",
       "       'I honestly do not know why this song hit so hard. There is something mature, strong, powerful. This really moved me.. No entiendo porque este MV no aumenta sus vistas la cancin es genial es arte y es triste que un grupo como este no tenga mas apoyo y reconocimiento This song deserved way more than it got. Its criminally underrated. From the stellar vocals, the immense emotion, the instrumental, and everything else that it encompasses, its an absolute masterpiece. For me, its definitely one of the best songs Mamamoos ever released. This song made me cry. It\\'s so raw, lyrically and musically mature and their voices raised thd song even higher. I think anyone who has come far in their stuggles can really feel this song. So beautiful. WTF. Me cuesta creer que son humanas, las acabo de empezar a escuchar y de las pocas canciones que he escuchado son mi grupo favorito, es algo muy diferente al tpico kpop, no puedo dejar de decirlo estas mujeres son asombrosas, nunca cre que un grupo de kpop me encantara tanto. Mamamoo vocals are always so gorgeous ahh Apoyemos a nuestras reinas en los MAMAs en la categora  Worldwide Fans Choice Top 10. Vamos moomoos apoyemos con WAW y votando this song really deserves so much more recognition. One day, the world will bow at your feet. Funny how this song was not nominated in MAMA best vocal. Like seriously can\\'t they hear such vocals. THIS IS A MASTERPIECE. Guess they don\\'t have ears eyyy. Ay debers que se lucieron con esta cancin Lyrics Translation :\\n\\nBeautifully dazzling nights\\nWhere hearts fluttered so much that it hurt, as we laughed and cried together\\nWhere we felt so thankful and promised to never let go\\nAll those nights of sleeplessness and sometimes fighting\\nWhere we smiled because we felt so endlessly happy\\nWhere Are We Now\\nMany seasons have passed after meeting you\\nMaybe were wandering through somewhere there\\nWhere Are We Now\\nWhere Are We Now\\nWhere Are We Now\\nOne day, in the middle of a long journey\\nTalking about\\nWhere we goin\\nWill you take me somewhere?\\nOr leave me to float along with the breeze\\nHow far have I come? Where am I?\\nOn and On\\nWere on the road\\nRunning till our breaths ran out\\nAll the things we did together are like a cool drama\\nKnow know know we know\\nThe good memories\\nWhen will it end? Will it even end?\\nNights that felt so natural, just like breathing\\nWhere Are We Now\\nMany seasons have passed after meeting you\\nMaybe were wandering through somewhere there\\nWhere Are We Now\\nWhere Are We Now\\nWhere Are We Now\\nOne day, in the middle of a long journey\\nYou and I\\nWhy are we hurting so much?\\nHow much more must we wander\\nAfter losing each other?\\nWhere Are We Now\\nWhere Are We Now\\nWhere Are We Now\\nAll those days were short as spring\\nTheres a beautiful star\\nWe dreamed the same dream together right here\\nWhere Are We Now\\n\\nYou can find more translations in high quality in our Twitter > @pop_gasa (pls don\\'t forget to follow us) ^^ Moos Mamamoo esta nominado en los MAMAs al Top 10 WorldWide, y las vistas es un aspecto a considerar, as que stream a where are we now! Besides the fact that this is a ballad, and its release coincided with their contract expiration, I think there is a deeper reason why this feels very \"endy\" but nostalgic at the same time and why it hits fans so hard even if we don\\'t understand the lyrics. I think this is a nod to their modern Mamamoo MVs. Come to think of it, some scenes don\\'t really make sense, but once you realize the MV it represents, it will make sense.\\n\\n0:03 - EGOTISTIC (Similar scene with Hwasa in the bathtub. She even wears a similar outfit.)\\n0:30 - STAR WIND FLOWER SUN (Their outfits bear resemblance.)\\n0:44 - GOGOBEBE (The way Wheein is posed is similar to their choreography in the bridge part of Gogobebe. You can also see random books on the right side, which they trash towards the end in the Gogobebe MV.)\\n1:20 - STARRY NIGHT (Remember that wooden pier/bridge that they walk on in Starry Night?)\\n1:23 - WIND FLOWER (Remember the fence where Wheein smashes the flowers?)\\n1:39 - HIP (The trailer van is similar to that where Wheein is in Hip. It\\'s around 1 minute into the MV.)\\n1:48 - STAR WIND FLOWER SUN (On the left, you can see what looks like a ukelele, similar to the one in the beginning of Star Wind Flower Sun.)\\n1:48 - AYA (In between Hwasa and Solar, you can see randomly placed red high heels. Obviously a nod to Aya. I mean, why else would you put red heels in there?)\\n2:13 - STARRY NIGHT (Hwasa\\'s shot looks similar to their surreal nature shots in the chorus of Starry Night.)\\n2:18 - DECALCOMANIE (This is where I think my point is solidified. This MV is more on light, faded colors and outdoor shots. All of a sudden, we have Solar in a hallway, in darkness. The only explanation is this is a nod to Decalcomanie. The black colors, the leather outfit, the mirror-like walls, the lamps, and the claustrophobic feel of it. Even her shoes. You can see its reflection on the right wall around 2:45.)\\n2:24 - PAINT ME (There is a scene in Paint Me where the 4 of them are first shown together. Solar and Wheein have traded places, but their outfits are on the same position. Open the MV and you\\'ll see. The one on the left is Moonbyul, with the fluffy white dress here, and a fluffy red dress in Paint Me. Next to her is Solar here, but Wheein in Paint Me. Nonetheless, it\\'s a dress revealing one shoulder and one leg. Next to her is Wheein here but Solar in paint me. Regardless, its a white dress here with very long sleeves, and a blue dress in Paint Me... WITH VERY LONG SLEEVES. Then finally, its Hwasa with a body hugging dress in both MVs.)\\n2:58 - PAINT ME (The simple shots with simple powerful lights. In Paint Me, its just one bright steady light behind them. Here its multiple moving lights dancing around them. This scene is very impactful because it mimics Moomoos when waving their light sticks.)\\n3:55 - DINGGA (Ice cream mogeuro gallae?)\\n\\nThese are just my thoughts. But I feel that they do make sense.\\nYou can add more if you notice anything else that I may have missed... esta cancin es muy buena, son realmente unas grandes cantantes No puedo explicar lo mucho que me gusta esta cancin You know what this is? It\\'s maturity which is about being able to look back and reminsc about the past and the pains of yesterday. This is art. I have never connected emotionally to a song like I\\'ve connected with Where Are We Now. This song is so beautiful and it just perfectly captures a certain type of loneliness and emptiness I feel but can\\'t form into words. Thank you Mamamoo for this <3 they deserve so much more,Im going to brainwash my cousin with Mamamoo songs  Amo sus vocales!!!!! estas diosas se merecen ms',\n",
       "       'Foi um prazer passar esta tarde com vocs debatendo diversos assuntos! Forte abrao Chifre  igual consrcio, uma hora voc  contemplado.\\n\\nGRAA, Z, 2020. FELIPE CASTANHARI - Podpah #03: Os caras xingando o Escudero.\\nHOT E OREIA - Flow Podcast #229: Os caras xingando o Escudero.\\nFELLIPE ESCUDERO- Master Podcast #12: O Escudero se defendendo e xingando os cara.\\n\\nE TUDO ISSO LITERALMENTE NO MESMO LUGAR. Que Multiverso incrvel  esse q ta sendo criado meus amigos!!! Petio pro Escudero vir aqui mais vezes, pois sinto que h muito mais assuntos a ser abordado com ele, que tem uma tima oratria No me importo com roupa, mas esse cara parece ser gente boa. \\nSucesso pra todos. ze graa parece ter estudado o convidado, muito bom pra conduzir a conversa Castanhari, mitico e igo sendo engolidos, argumentos contundentes e coberto de razo, parabns Escudeiro, comecei vendo seu canal pelo \"gordinho do Outifit\" e nunca mais parei. Escudero me convenceu da sua verdade , independente de curtir o seguimento que ele trabalha ou no Mano o escudeiro no precisa dormir com cobertor porque ele j est coberto de razo. De longe o Escudero  o mais profissional em moda masculina aqui no Brasil e as vezes  muito desvalorizado pelo mainstream, l fora ele seria um semi deus da moda.  como aquela frase do Batman, \"Ele no  o heri que a cidade merece, mas  o que a cidade precisa\". Pega a argumentao do Escudero e compara com a falcia do Mtico, Igo e Castanha. No t difcil de saber quem t defendendo uma ideia e quem t de manada, s reproduzindo o que os outros falam, sem ter trocado uma ideia com o cara. E digo mais: Muito obrigado, Guru e Lorde, por terem dado espao pro Escudero poder falar pra um pblico que no  o dele, mostrando o ponto de vista que esses trs escrotes tentaram deturpar! Mano, esse Lord  o melhor hahahaha dei muita risada com ele! Ganharam um inscrito O escudeiro  muito bala, ele tem convico das parada, no  um otario que fica com medo de jugalmento alheio. Acho muito pica seu posicionamento com a moda, conscientiza a rapaziada e crtica aqueles que no acrescentam em nada. O cara  brabo esse ep foi muito foda, no inicio eu achava que seria um dos clones do flow, mas no decorrer  totalmente diferente, voces dois sao muito unicos e o convidado  mais foda ainda Rapaz, tinha uma opinio bem ruim desse cara; agora mudei completamente. Parabns pela sinceridade e integridade. Cara, sendo contemporneo do Lordo, compartilho das opinies dele e me cago de rir dos rompantes que ele tem quando ele emite certas opinies. Um grande abrao e muito sucesso para os senhores. Mano, imagina o Igo chegar no estdio na hr q o Escudero estivesse ali e eles se trombassem kkkkkkkkkkk ia ser top pi kkkkkkkkl O escudero  foda! Apoio 100% a causa dele, esse negcio de famoso divulgar loja de produtos pirata  furada, s prejudicam os fs, e PIRATARIA  CRIME, galera do podpah perdeu mto respeito dps q falaram aquilo Curto muito o trabalho do Escudero. Monstro, tem uma oratria polida demais.',\n",
       "       \"Thank you Kane for everything you have given to this club. Bale just single handedly destroyed Leicester. Great to see him back to his best  If you didn't know Leicester is a good team, Bale's 2nd goal may look like he's playing against amateurs. That's a mark of great players, they make things look too easy. God bless Kane, Son and Bale! BALE!, I cant explain how I felt watching that back. As a Chelsea fan, I have never said this, but I will this time: Thank you Tottenham 4th goal:\\nGoal : Bale\\nAssist : Bale  Harry Kane, what a man!!  Bale was involved in two goals.\\nKane was involved in three goals.\\nSon Heung-min was involved in three goals. What a superb double from my best of all  time Gareth bale TY ... Its like watching the old Gareth bale playing at his best, nostalgic Bale ended Leicester's dream in 7 mins Son+Kane+Bale= Perfection \\nSaludos desde Mxico  I miss him so much. He told us he wants to be in Tottenham so Mourinho worked hard to make him become alive again.\\nAfter he became alive, he said he will go back to Real Madrid and coming to Tottenham was just coming to make him well\\nenough to play in Real Madrid and in the Wales National team. Thank you Kane, I hope you win trophies! Gareth bale arrived on the pitch like thor arrived in wakanda  Great match, great goals!!! The composure on Tottenham's frontline was legendary Thank you Bale for everything you have given to this club.  Bale casually strolling to goal no pressure shoots...gets a rebound and scores...majestic..\"],\n",
       "      dtype=object)"
      ]
     },
     "execution_count": 10,
     "metadata": {},
     "output_type": "execute_result"
    }
   ],
   "source": [
    "df[\"comments\"].unique()"
   ]
  },
  {
   "cell_type": "code",
   "execution_count": 11,
   "id": "61cef48a",
   "metadata": {},
   "outputs": [],
   "source": [
    "df.dropna(inplace=True)"
   ]
  },
  {
   "cell_type": "code",
   "execution_count": 12,
   "id": "eab794a6",
   "metadata": {},
   "outputs": [
    {
     "data": {
      "text/plain": [
       "video_id         0\n",
       "title            0\n",
       "channel_id       0\n",
       "channel_title    0\n",
       "published_at     0\n",
       "view_count       0\n",
       "likes            0\n",
       "dislikes         0\n",
       "comment_count    0\n",
       "tags             0\n",
       "description      0\n",
       "comments         0\n",
       "dtype: int64"
      ]
     },
     "execution_count": 12,
     "metadata": {},
     "output_type": "execute_result"
    }
   ],
   "source": [
    "df.isna().sum()"
   ]
  },
  {
   "cell_type": "markdown",
   "id": "e48ecefc",
   "metadata": {},
   "source": [
    "### 4. Check the statistical summary of both numerical and categorical columns and write your inferences.\n"
   ]
  },
  {
   "cell_type": "code",
   "execution_count": 13,
   "id": "e8ebe7f4",
   "metadata": {},
   "outputs": [
    {
     "data": {
      "text/html": [
       "<div>\n",
       "<style scoped>\n",
       "    .dataframe tbody tr th:only-of-type {\n",
       "        vertical-align: middle;\n",
       "    }\n",
       "\n",
       "    .dataframe tbody tr th {\n",
       "        vertical-align: top;\n",
       "    }\n",
       "\n",
       "    .dataframe thead th {\n",
       "        text-align: right;\n",
       "    }\n",
       "</style>\n",
       "<table border=\"1\" class=\"dataframe\">\n",
       "  <thead>\n",
       "    <tr style=\"text-align: right;\">\n",
       "      <th></th>\n",
       "      <th>video_id</th>\n",
       "      <th>title</th>\n",
       "      <th>channel_id</th>\n",
       "      <th>channel_title</th>\n",
       "      <th>published_at</th>\n",
       "      <th>view_count</th>\n",
       "      <th>likes</th>\n",
       "      <th>dislikes</th>\n",
       "      <th>comment_count</th>\n",
       "      <th>tags</th>\n",
       "      <th>description</th>\n",
       "      <th>comments</th>\n",
       "    </tr>\n",
       "  </thead>\n",
       "  <tbody>\n",
       "    <tr>\n",
       "      <th>count</th>\n",
       "      <td>37264</td>\n",
       "      <td>37264</td>\n",
       "      <td>37264</td>\n",
       "      <td>37264</td>\n",
       "      <td>37264</td>\n",
       "      <td>3.726400e+04</td>\n",
       "      <td>3.726400e+04</td>\n",
       "      <td>3.726400e+04</td>\n",
       "      <td>3.726400e+04</td>\n",
       "      <td>37264</td>\n",
       "      <td>37264</td>\n",
       "      <td>37264</td>\n",
       "    </tr>\n",
       "    <tr>\n",
       "      <th>unique</th>\n",
       "      <td>37264</td>\n",
       "      <td>36958</td>\n",
       "      <td>10891</td>\n",
       "      <td>10813</td>\n",
       "      <td>36617</td>\n",
       "      <td>NaN</td>\n",
       "      <td>NaN</td>\n",
       "      <td>NaN</td>\n",
       "      <td>NaN</td>\n",
       "      <td>28705</td>\n",
       "      <td>35479</td>\n",
       "      <td>37264</td>\n",
       "    </tr>\n",
       "    <tr>\n",
       "      <th>top</th>\n",
       "      <td>--0bCF-iK2E</td>\n",
       "      <td>www</td>\n",
       "      <td>UCNAf1k0yIjyGu3k9BwAg3lg</td>\n",
       "      <td>Sky Sports Football</td>\n",
       "      <td>2020-10-16 04:00:10</td>\n",
       "      <td>NaN</td>\n",
       "      <td>NaN</td>\n",
       "      <td>NaN</td>\n",
       "      <td>NaN</td>\n",
       "      <td></td>\n",
       "      <td></td>\n",
       "      <td>Respect to Dortmund fans,must be sad losing hi...</td>\n",
       "    </tr>\n",
       "    <tr>\n",
       "      <th>freq</th>\n",
       "      <td>1</td>\n",
       "      <td>21</td>\n",
       "      <td>533</td>\n",
       "      <td>533</td>\n",
       "      <td>6</td>\n",
       "      <td>NaN</td>\n",
       "      <td>NaN</td>\n",
       "      <td>NaN</td>\n",
       "      <td>NaN</td>\n",
       "      <td>3808</td>\n",
       "      <td>587</td>\n",
       "      <td>1</td>\n",
       "    </tr>\n",
       "    <tr>\n",
       "      <th>mean</th>\n",
       "      <td>NaN</td>\n",
       "      <td>NaN</td>\n",
       "      <td>NaN</td>\n",
       "      <td>NaN</td>\n",
       "      <td>NaN</td>\n",
       "      <td>5.710821e+06</td>\n",
       "      <td>1.672867e+05</td>\n",
       "      <td>4.996434e+03</td>\n",
       "      <td>9.966953e+03</td>\n",
       "      <td>NaN</td>\n",
       "      <td>NaN</td>\n",
       "      <td>NaN</td>\n",
       "    </tr>\n",
       "    <tr>\n",
       "      <th>std</th>\n",
       "      <td>NaN</td>\n",
       "      <td>NaN</td>\n",
       "      <td>NaN</td>\n",
       "      <td>NaN</td>\n",
       "      <td>NaN</td>\n",
       "      <td>2.431304e+07</td>\n",
       "      <td>5.384931e+05</td>\n",
       "      <td>3.075194e+04</td>\n",
       "      <td>1.173465e+05</td>\n",
       "      <td>NaN</td>\n",
       "      <td>NaN</td>\n",
       "      <td>NaN</td>\n",
       "    </tr>\n",
       "    <tr>\n",
       "      <th>min</th>\n",
       "      <td>NaN</td>\n",
       "      <td>NaN</td>\n",
       "      <td>NaN</td>\n",
       "      <td>NaN</td>\n",
       "      <td>NaN</td>\n",
       "      <td>2.036800e+04</td>\n",
       "      <td>2.200000e+01</td>\n",
       "      <td>3.000000e+00</td>\n",
       "      <td>1.000000e+00</td>\n",
       "      <td>NaN</td>\n",
       "      <td>NaN</td>\n",
       "      <td>NaN</td>\n",
       "    </tr>\n",
       "    <tr>\n",
       "      <th>25%</th>\n",
       "      <td>NaN</td>\n",
       "      <td>NaN</td>\n",
       "      <td>NaN</td>\n",
       "      <td>NaN</td>\n",
       "      <td>NaN</td>\n",
       "      <td>5.141305e+05</td>\n",
       "      <td>1.331725e+04</td>\n",
       "      <td>2.827500e+02</td>\n",
       "      <td>9.140000e+02</td>\n",
       "      <td>NaN</td>\n",
       "      <td>NaN</td>\n",
       "      <td>NaN</td>\n",
       "    </tr>\n",
       "    <tr>\n",
       "      <th>50%</th>\n",
       "      <td>NaN</td>\n",
       "      <td>NaN</td>\n",
       "      <td>NaN</td>\n",
       "      <td>NaN</td>\n",
       "      <td>NaN</td>\n",
       "      <td>1.321860e+06</td>\n",
       "      <td>4.255600e+04</td>\n",
       "      <td>7.980000e+02</td>\n",
       "      <td>2.347000e+03</td>\n",
       "      <td>NaN</td>\n",
       "      <td>NaN</td>\n",
       "      <td>NaN</td>\n",
       "    </tr>\n",
       "    <tr>\n",
       "      <th>75%</th>\n",
       "      <td>NaN</td>\n",
       "      <td>NaN</td>\n",
       "      <td>NaN</td>\n",
       "      <td>NaN</td>\n",
       "      <td>NaN</td>\n",
       "      <td>3.674527e+06</td>\n",
       "      <td>1.309665e+05</td>\n",
       "      <td>2.466250e+03</td>\n",
       "      <td>6.212000e+03</td>\n",
       "      <td>NaN</td>\n",
       "      <td>NaN</td>\n",
       "      <td>NaN</td>\n",
       "    </tr>\n",
       "    <tr>\n",
       "      <th>max</th>\n",
       "      <td>NaN</td>\n",
       "      <td>NaN</td>\n",
       "      <td>NaN</td>\n",
       "      <td>NaN</td>\n",
       "      <td>NaN</td>\n",
       "      <td>1.322797e+09</td>\n",
       "      <td>3.183768e+07</td>\n",
       "      <td>2.397733e+06</td>\n",
       "      <td>1.607103e+07</td>\n",
       "      <td>NaN</td>\n",
       "      <td>NaN</td>\n",
       "      <td>NaN</td>\n",
       "    </tr>\n",
       "  </tbody>\n",
       "</table>\n",
       "</div>"
      ],
      "text/plain": [
       "           video_id  title                channel_id        channel_title  \\\n",
       "count         37264  37264                     37264                37264   \n",
       "unique        37264  36958                     10891                10813   \n",
       "top     --0bCF-iK2E    www  UCNAf1k0yIjyGu3k9BwAg3lg  Sky Sports Football   \n",
       "freq              1     21                       533                  533   \n",
       "mean            NaN    NaN                       NaN                  NaN   \n",
       "std             NaN    NaN                       NaN                  NaN   \n",
       "min             NaN    NaN                       NaN                  NaN   \n",
       "25%             NaN    NaN                       NaN                  NaN   \n",
       "50%             NaN    NaN                       NaN                  NaN   \n",
       "75%             NaN    NaN                       NaN                  NaN   \n",
       "max             NaN    NaN                       NaN                  NaN   \n",
       "\n",
       "               published_at    view_count         likes      dislikes  \\\n",
       "count                 37264  3.726400e+04  3.726400e+04  3.726400e+04   \n",
       "unique                36617           NaN           NaN           NaN   \n",
       "top     2020-10-16 04:00:10           NaN           NaN           NaN   \n",
       "freq                      6           NaN           NaN           NaN   \n",
       "mean                    NaN  5.710821e+06  1.672867e+05  4.996434e+03   \n",
       "std                     NaN  2.431304e+07  5.384931e+05  3.075194e+04   \n",
       "min                     NaN  2.036800e+04  2.200000e+01  3.000000e+00   \n",
       "25%                     NaN  5.141305e+05  1.331725e+04  2.827500e+02   \n",
       "50%                     NaN  1.321860e+06  4.255600e+04  7.980000e+02   \n",
       "75%                     NaN  3.674527e+06  1.309665e+05  2.466250e+03   \n",
       "max                     NaN  1.322797e+09  3.183768e+07  2.397733e+06   \n",
       "\n",
       "        comment_count   tags description  \\\n",
       "count    3.726400e+04  37264       37264   \n",
       "unique            NaN  28705       35479   \n",
       "top               NaN                      \n",
       "freq              NaN   3808         587   \n",
       "mean     9.966953e+03    NaN         NaN   \n",
       "std      1.173465e+05    NaN         NaN   \n",
       "min      1.000000e+00    NaN         NaN   \n",
       "25%      9.140000e+02    NaN         NaN   \n",
       "50%      2.347000e+03    NaN         NaN   \n",
       "75%      6.212000e+03    NaN         NaN   \n",
       "max      1.607103e+07    NaN         NaN   \n",
       "\n",
       "                                                 comments  \n",
       "count                                               37264  \n",
       "unique                                              37264  \n",
       "top     Respect to Dortmund fans,must be sad losing hi...  \n",
       "freq                                                    1  \n",
       "mean                                                  NaN  \n",
       "std                                                   NaN  \n",
       "min                                                   NaN  \n",
       "25%                                                   NaN  \n",
       "50%                                                   NaN  \n",
       "75%                                                   NaN  \n",
       "max                                                   NaN  "
      ]
     },
     "execution_count": 13,
     "metadata": {},
     "output_type": "execute_result"
    }
   ],
   "source": [
    "df.describe(include='all')"
   ]
  },
  {
   "cell_type": "markdown",
   "id": "73e922b9",
   "metadata": {},
   "source": [
    "The dataset includes video data with a wide range of view counts, from a minimum of 20,368 to a maximum of 1,322,797,000. The average view count for all videos in the dataset is 5,710,821. The number of likes for the videos in the dataset ranges from a minimum of 21 to a maximum of 31,837,680, while the number of dislikes ranges from a minimum of 1 to a maximum of 3. The number of comments per video also varies widely, from a minimum of 2,397,733 to a maximum of 16,071,030. This data provides insights into the relative popularity of different kinds of videos and the variety of engagement users have with those videos."
   ]
  },
  {
   "cell_type": "markdown",
   "id": "4834c67c",
   "metadata": {},
   "source": [
    "### 5. Convert datatype of column published_at from object to pandas datetime."
   ]
  },
  {
   "cell_type": "code",
   "execution_count": 14,
   "id": "57c9d3f7",
   "metadata": {},
   "outputs": [
    {
     "data": {
      "text/html": [
       "<div>\n",
       "<style scoped>\n",
       "    .dataframe tbody tr th:only-of-type {\n",
       "        vertical-align: middle;\n",
       "    }\n",
       "\n",
       "    .dataframe tbody tr th {\n",
       "        vertical-align: top;\n",
       "    }\n",
       "\n",
       "    .dataframe thead th {\n",
       "        text-align: right;\n",
       "    }\n",
       "</style>\n",
       "<table border=\"1\" class=\"dataframe\">\n",
       "  <thead>\n",
       "    <tr style=\"text-align: right;\">\n",
       "      <th></th>\n",
       "      <th>published_at</th>\n",
       "    </tr>\n",
       "  </thead>\n",
       "  <tbody>\n",
       "    <tr>\n",
       "      <th>0</th>\n",
       "      <td>2021-07-01 10:00:00</td>\n",
       "    </tr>\n",
       "    <tr>\n",
       "      <th>1</th>\n",
       "      <td>2021-06-10 16:00:00</td>\n",
       "    </tr>\n",
       "    <tr>\n",
       "      <th>2</th>\n",
       "      <td>2021-09-20 01:03:32</td>\n",
       "    </tr>\n",
       "    <tr>\n",
       "      <th>3</th>\n",
       "      <td>2021-03-03 10:00:17</td>\n",
       "    </tr>\n",
       "    <tr>\n",
       "      <th>4</th>\n",
       "      <td>2021-12-07 13:00:00</td>\n",
       "    </tr>\n",
       "    <tr>\n",
       "      <th>...</th>\n",
       "      <td>...</td>\n",
       "    </tr>\n",
       "    <tr>\n",
       "      <th>37417</th>\n",
       "      <td>2021-02-12 05:03:49</td>\n",
       "    </tr>\n",
       "    <tr>\n",
       "      <th>37418</th>\n",
       "      <td>2021-01-16 05:39:05</td>\n",
       "    </tr>\n",
       "    <tr>\n",
       "      <th>37419</th>\n",
       "      <td>2021-06-02 09:00:10</td>\n",
       "    </tr>\n",
       "    <tr>\n",
       "      <th>37420</th>\n",
       "      <td>2020-10-20 20:59:30</td>\n",
       "    </tr>\n",
       "    <tr>\n",
       "      <th>37421</th>\n",
       "      <td>2021-05-23 21:00:31</td>\n",
       "    </tr>\n",
       "  </tbody>\n",
       "</table>\n",
       "<p>37264 rows × 1 columns</p>\n",
       "</div>"
      ],
      "text/plain": [
       "             published_at\n",
       "0     2021-07-01 10:00:00\n",
       "1     2021-06-10 16:00:00\n",
       "2     2021-09-20 01:03:32\n",
       "3     2021-03-03 10:00:17\n",
       "4     2021-12-07 13:00:00\n",
       "...                   ...\n",
       "37417 2021-02-12 05:03:49\n",
       "37418 2021-01-16 05:39:05\n",
       "37419 2021-06-02 09:00:10\n",
       "37420 2020-10-20 20:59:30\n",
       "37421 2021-05-23 21:00:31\n",
       "\n",
       "[37264 rows x 1 columns]"
      ]
     },
     "execution_count": 14,
     "metadata": {},
     "output_type": "execute_result"
    }
   ],
   "source": [
    "pd.DataFrame(pd.to_datetime(df[\"published_at\"]))"
   ]
  },
  {
   "cell_type": "markdown",
   "id": "e54574dc",
   "metadata": {},
   "source": [
    "### 6. Create a new column as 'published_month' using the column published_at (display the months only)\n"
   ]
  },
  {
   "cell_type": "code",
   "execution_count": 15,
   "id": "49e0ded8",
   "metadata": {},
   "outputs": [],
   "source": [
    "df[\"published_month\"]=df['published_at'].str[5:7]"
   ]
  },
  {
   "cell_type": "code",
   "execution_count": 16,
   "id": "afdfeb3e",
   "metadata": {},
   "outputs": [
    {
     "data": {
      "text/plain": [
       "0    07\n",
       "1    06\n",
       "2    09\n",
       "3    03\n",
       "4    12\n",
       "Name: published_month, dtype: object"
      ]
     },
     "execution_count": 16,
     "metadata": {},
     "output_type": "execute_result"
    }
   ],
   "source": [
    "df[\"published_month\"].head(5)"
   ]
  },
  {
   "cell_type": "markdown",
   "id": "bc2693fb",
   "metadata": {},
   "source": [
    "### 7. Replace the numbers in the column published_month as names of the months i,e., 1 as 'Jan', 2 as 'Feb' and so on.....\n"
   ]
  },
  {
   "cell_type": "code",
   "execution_count": 17,
   "id": "6bff4dc0",
   "metadata": {},
   "outputs": [],
   "source": [
    "month={'01':\"Jan\",'02':'Feb','03':'Mar','04':'Apr','05':'May','06':'June','07':'July','08':'Aug','09':'Sep','10':'Oct','11':'Nov','12':'Dec'}"
   ]
  },
  {
   "cell_type": "code",
   "execution_count": 18,
   "id": "d6e1c3d4",
   "metadata": {},
   "outputs": [],
   "source": [
    "df[\"published_month\"]=df[\"published_month\"].map(month)"
   ]
  },
  {
   "cell_type": "code",
   "execution_count": 19,
   "id": "dcb23729",
   "metadata": {},
   "outputs": [
    {
     "data": {
      "text/plain": [
       "0    July\n",
       "1    June\n",
       "2     Sep\n",
       "3     Mar\n",
       "4     Dec\n",
       "Name: published_month, dtype: object"
      ]
     },
     "execution_count": 19,
     "metadata": {},
     "output_type": "execute_result"
    }
   ],
   "source": [
    "df['published_month'].head(5)"
   ]
  },
  {
   "cell_type": "markdown",
   "id": "d9a96b02",
   "metadata": {},
   "source": [
    "### 8. Find the number of videos published each month and arrange the months in a decreasing order based on the video count.\n"
   ]
  },
  {
   "cell_type": "code",
   "execution_count": 20,
   "id": "2c518b3f",
   "metadata": {},
   "outputs": [
    {
     "data": {
      "text/plain": [
       "published_month\n",
       "Oct     4976\n",
       "Sep     4854\n",
       "Nov     4821\n",
       "Aug     4250\n",
       "Dec     3063\n",
       "July    2331\n",
       "June    2305\n",
       "Mar     2248\n",
       "Feb     2125\n",
       "Apr     2119\n",
       "Jan     2099\n",
       "May     2073\n",
       "Name: video_id, dtype: int64"
      ]
     },
     "execution_count": 20,
     "metadata": {},
     "output_type": "execute_result"
    }
   ],
   "source": [
    "df.groupby('published_month')['video_id'].count().sort_values(ascending=False)"
   ]
  },
  {
   "cell_type": "markdown",
   "id": "beb9711c",
   "metadata": {},
   "source": [
    "### 9. Find the count of unique video_id, channel_id and channel_title."
   ]
  },
  {
   "cell_type": "code",
   "execution_count": 21,
   "id": "c4e25b55",
   "metadata": {},
   "outputs": [
    {
     "name": "stdout",
     "output_type": "stream",
     "text": [
      "Count Of Unique Video_id's: 37264\n"
     ]
    }
   ],
   "source": [
    "count_video_id= df['video_id'].nunique()\n",
    "print(\"Count Of Unique Video_id's:\",count_video_id)"
   ]
  },
  {
   "cell_type": "code",
   "execution_count": 22,
   "id": "4294617f",
   "metadata": {},
   "outputs": [
    {
     "name": "stdout",
     "output_type": "stream",
     "text": [
      "Count Of Unique Channel_id's: 10891\n"
     ]
    }
   ],
   "source": [
    "count_Channel_id = df['channel_id'].nunique()\n",
    "print(\"Count Of Unique Channel_id's:\",count_Channel_id)"
   ]
  },
  {
   "cell_type": "code",
   "execution_count": 23,
   "id": "f8c0fa9c",
   "metadata": {},
   "outputs": [
    {
     "name": "stdout",
     "output_type": "stream",
     "text": [
      "Count Of Unique Channel_titles: 10813\n"
     ]
    }
   ],
   "source": [
    "count_Channel_title = df['channel_title'].nunique()\n",
    "print(\"Count Of Unique Channel_titles:\",count_Channel_title)"
   ]
  },
  {
   "cell_type": "markdown",
   "id": "f8552dbc",
   "metadata": {},
   "source": [
    "### 10. Find the top10 channel names having the highest number of videos in the dataset and the bottom10 having lowest number of videos.\n"
   ]
  },
  {
   "cell_type": "code",
   "execution_count": 24,
   "id": "84650c90",
   "metadata": {},
   "outputs": [],
   "source": [
    "Highest_lowest_Video= df.groupby('channel_title')['video_id'].count().sort_values(ascending=False)"
   ]
  },
  {
   "cell_type": "code",
   "execution_count": 25,
   "id": "962be905",
   "metadata": {},
   "outputs": [
    {
     "data": {
      "text/plain": [
       "channel_title\n",
       "Sky Sports Football    533\n",
       "The United Stand       301\n",
       "BT Sport               246\n",
       "NBA                    209\n",
       "NFL                    162\n",
       "WWE                    122\n",
       "SSSniperWolf            99\n",
       "SSundee                 98\n",
       "FORMULA 1               87\n",
       "NHL                     86\n",
       "Name: video_id, dtype: int64"
      ]
     },
     "execution_count": 25,
     "metadata": {},
     "output_type": "execute_result"
    }
   ],
   "source": [
    "Highest_lowest_Video.head(10) #top10 channel names having the highest number of videos in the dataset"
   ]
  },
  {
   "cell_type": "code",
   "execution_count": 26,
   "id": "a9448502",
   "metadata": {},
   "outputs": [
    {
     "data": {
      "text/plain": [
       "channel_title\n",
       "Karikku Tuned      1\n",
       "Karen Bustillos    1\n",
       "Karen Aslanyan     1\n",
       "Karchez            1\n",
       "Karate Combat      1\n",
       "Kaptain Kuba       1\n",
       "Kanye West         1\n",
       "Kannur kitchen     1\n",
       "Kannada Cinema     1\n",
       "zoom               1\n",
       "Name: video_id, dtype: int64"
      ]
     },
     "execution_count": 26,
     "metadata": {},
     "output_type": "execute_result"
    }
   ],
   "source": [
    "Highest_lowest_Video.tail(10)  #buttom10 channel names having the highest number of videos in the dataset"
   ]
  },
  {
   "cell_type": "markdown",
   "id": "f6e432a3",
   "metadata": {},
   "source": [
    "### 11. Find the title of the video which has the maximum number of likes and the title of the video having minimum likes and write your inferences"
   ]
  },
  {
   "cell_type": "code",
   "execution_count": 27,
   "id": "4deec089",
   "metadata": {},
   "outputs": [
    {
     "data": {
      "text/html": [
       "<div>\n",
       "<style scoped>\n",
       "    .dataframe tbody tr th:only-of-type {\n",
       "        vertical-align: middle;\n",
       "    }\n",
       "\n",
       "    .dataframe tbody tr th {\n",
       "        vertical-align: top;\n",
       "    }\n",
       "\n",
       "    .dataframe thead th {\n",
       "        text-align: right;\n",
       "    }\n",
       "</style>\n",
       "<table border=\"1\" class=\"dataframe\">\n",
       "  <thead>\n",
       "    <tr style=\"text-align: right;\">\n",
       "      <th></th>\n",
       "      <th>likes</th>\n",
       "    </tr>\n",
       "    <tr>\n",
       "      <th>title</th>\n",
       "      <th></th>\n",
       "    </tr>\n",
       "  </thead>\n",
       "  <tbody>\n",
       "    <tr>\n",
       "      <th>BTS () 'Dynamite' Official MV</th>\n",
       "      <td>31837675</td>\n",
       "    </tr>\n",
       "  </tbody>\n",
       "</table>\n",
       "</div>"
      ],
      "text/plain": [
       "                                  likes\n",
       "title                                  \n",
       "BTS () 'Dynamite' Official MV  31837675"
      ]
     },
     "execution_count": 27,
     "metadata": {},
     "output_type": "execute_result"
    }
   ],
   "source": [
    "pd.DataFrame(df.groupby('title')['likes'].max().sort_values(ascending=False).head(1))"
   ]
  },
  {
   "cell_type": "code",
   "execution_count": 28,
   "id": "544cd607",
   "metadata": {},
   "outputs": [],
   "source": [
    "max_likes = df.loc[df['likes'].idxmax()]\n",
    "max_title = max_likes['title']\n",
    "\n"
   ]
  },
  {
   "cell_type": "code",
   "execution_count": 29,
   "id": "a97c5d97",
   "metadata": {},
   "outputs": [
    {
     "data": {
      "text/plain": [
       "31837675"
      ]
     },
     "execution_count": 29,
     "metadata": {},
     "output_type": "execute_result"
    }
   ],
   "source": [
    "max_likes['likes']"
   ]
  },
  {
   "cell_type": "code",
   "execution_count": 30,
   "id": "f80e0f7c",
   "metadata": {},
   "outputs": [],
   "source": [
    "min_likes = df.loc[df['likes'].idxmin()]\n",
    "min_title = min_likes['title']"
   ]
  },
  {
   "cell_type": "code",
   "execution_count": 31,
   "id": "91cfe0ba",
   "metadata": {},
   "outputs": [
    {
     "name": "stdout",
     "output_type": "stream",
     "text": [
      "Video with the minimum number of likes: Leading the Charge | Circle K\n"
     ]
    }
   ],
   "source": [
    "print(\"Video with the minimum number of likes:\", min_title)"
   ]
  },
  {
   "cell_type": "code",
   "execution_count": 32,
   "id": "50bb8722",
   "metadata": {},
   "outputs": [
    {
     "data": {
      "text/plain": [
       "22"
      ]
     },
     "execution_count": 32,
     "metadata": {},
     "output_type": "execute_result"
    }
   ],
   "source": [
    "min_likes['likes']"
   ]
  },
  {
   "cell_type": "markdown",
   "id": "f51f4486",
   "metadata": {},
   "source": [
    "### 12. Find the title of the video which has the maximum number of dislikes and the title of the video having minimum dislikes and write your inferences.\n"
   ]
  },
  {
   "cell_type": "code",
   "execution_count": 35,
   "id": "6e668e74",
   "metadata": {},
   "outputs": [
    {
     "data": {
      "text/html": [
       "<div>\n",
       "<style scoped>\n",
       "    .dataframe tbody tr th:only-of-type {\n",
       "        vertical-align: middle;\n",
       "    }\n",
       "\n",
       "    .dataframe tbody tr th {\n",
       "        vertical-align: top;\n",
       "    }\n",
       "\n",
       "    .dataframe thead th {\n",
       "        text-align: right;\n",
       "    }\n",
       "</style>\n",
       "<table border=\"1\" class=\"dataframe\">\n",
       "  <thead>\n",
       "    <tr style=\"text-align: right;\">\n",
       "      <th></th>\n",
       "      <th>dislikes</th>\n",
       "    </tr>\n",
       "    <tr>\n",
       "      <th>title</th>\n",
       "      <th></th>\n",
       "    </tr>\n",
       "  </thead>\n",
       "  <tbody>\n",
       "    <tr>\n",
       "      <th>Tims For Good: A Taste Of The Familiar</th>\n",
       "      <td>3</td>\n",
       "    </tr>\n",
       "  </tbody>\n",
       "</table>\n",
       "</div>"
      ],
      "text/plain": [
       "                                        dislikes\n",
       "title                                           \n",
       "Tims For Good: A Taste Of The Familiar         3"
      ]
     },
     "execution_count": 35,
     "metadata": {},
     "output_type": "execute_result"
    }
   ],
   "source": [
    "pd.DataFrame(df.groupby('title')['dislikes'].max().sort_values(ascending=False).tail(1))"
   ]
  },
  {
   "cell_type": "markdown",
   "id": "f1b6297d",
   "metadata": {},
   "source": [
    "The Title of Tims For Good: A Taste of The Familiar is minimum dislikes\n",
    "it means the title is attractive and impressive to the users, so they reacted positively towards it."
   ]
  },
  {
   "cell_type": "code",
   "execution_count": 36,
   "id": "d14e48da",
   "metadata": {},
   "outputs": [
    {
     "data": {
      "text/html": [
       "<div>\n",
       "<style scoped>\n",
       "    .dataframe tbody tr th:only-of-type {\n",
       "        vertical-align: middle;\n",
       "    }\n",
       "\n",
       "    .dataframe tbody tr th {\n",
       "        vertical-align: top;\n",
       "    }\n",
       "\n",
       "    .dataframe thead th {\n",
       "        text-align: right;\n",
       "    }\n",
       "</style>\n",
       "<table border=\"1\" class=\"dataframe\">\n",
       "  <thead>\n",
       "    <tr style=\"text-align: right;\">\n",
       "      <th></th>\n",
       "      <th>dislikes</th>\n",
       "    </tr>\n",
       "    <tr>\n",
       "      <th>title</th>\n",
       "      <th></th>\n",
       "    </tr>\n",
       "  </thead>\n",
       "  <tbody>\n",
       "    <tr>\n",
       "      <th>Cuties | Official Trailer | Netflix</th>\n",
       "      <td>2397733</td>\n",
       "    </tr>\n",
       "  </tbody>\n",
       "</table>\n",
       "</div>"
      ],
      "text/plain": [
       "                                     dislikes\n",
       "title                                        \n",
       "Cuties | Official Trailer | Netflix   2397733"
      ]
     },
     "execution_count": 36,
     "metadata": {},
     "output_type": "execute_result"
    }
   ],
   "source": [
    "pd.DataFrame(df.groupby('title')['dislikes'].max().sort_values(ascending=False).head(1))"
   ]
  },
  {
   "cell_type": "markdown",
   "id": "b6123bdd",
   "metadata": {},
   "source": [
    "The Cuties offiial trailer released in netflix and the trailer received a large number of dislikes and negative comments across different social media platforms."
   ]
  },
  {
   "cell_type": "markdown",
   "id": "ba6ab721",
   "metadata": {},
   "source": [
    "### 13.Does the number of views have any effect on how many people disliked the video? Support your answer with a metric and a plot."
   ]
  },
  {
   "cell_type": "code",
   "execution_count": 39,
   "id": "13bd22e2",
   "metadata": {},
   "outputs": [],
   "source": [
    "df['dislike_rate'] = df['dislikes']/df['view_count']*100"
   ]
  },
  {
   "cell_type": "code",
   "execution_count": 40,
   "id": "d93947cc",
   "metadata": {},
   "outputs": [
    {
     "data": {
      "text/plain": [
       "0        0.021547\n",
       "1        0.048715\n",
       "2        0.043338\n",
       "3        0.016694\n",
       "4        0.051277\n",
       "           ...   \n",
       "37417    0.029791\n",
       "37418    0.036912\n",
       "37419    0.033162\n",
       "37420    0.489572\n",
       "37421    0.038542\n",
       "Name: dislike_rate, Length: 37264, dtype: float64"
      ]
     },
     "execution_count": 40,
     "metadata": {},
     "output_type": "execute_result"
    }
   ],
   "source": [
    "df['dislike_rate']"
   ]
  },
  {
   "cell_type": "code",
   "execution_count": 44,
   "id": "068db4fa",
   "metadata": {},
   "outputs": [
    {
     "data": {
      "image/png": "[encoded data removed]",
      "text/plain": [
       "<Figure size 640x480 with 1 Axes>"
      ]
     },
     "metadata": {},
     "output_type": "display_data"
    }
   ],
   "source": [
    "import matplotlib.pyplot as plt\n",
    "plt.scatter(df['dislike_rate'],df['view_count'])\n",
    "plt.xlabel('dislikes')\n",
    "plt.ylabel('view_count')\n",
    "plt.title('number of views effected on how people disliked video')\n",
    "plt.show()"
   ]
  },
  {
   "cell_type": "code",
   "execution_count": 47,
   "id": "dc70ce47",
   "metadata": {},
   "outputs": [
    {
     "name": "stderr",
     "output_type": "stream",
     "text": [
      "C:\\Users\\ASUS\\AppData\\Local\\Temp\\ipykernel_6436\\1037621145.py:2: FutureWarning: The default value of numeric_only in DataFrame.corr is deprecated. In a future version, it will default to False. Select only valid columns or specify the value of numeric_only to silence this warning.\n",
      "  sns.heatmap(df.corr(), annot=True, cmap='spring')\n"
     ]
    },
    {
     "data": {
      "text/plain": [
       "<Axes: >"
      ]
     },
     "execution_count": 47,
     "metadata": {},
     "output_type": "execute_result"
    },
    {
     "data": {
      "image/png": "[encoded data removed]",
      "text/plain": [
       "<Figure size 640x480 with 2 Axes>"
      ]
     },
     "metadata": {},
     "output_type": "display_data"
    }
   ],
   "source": [
    "import seaborn as sns\n",
    "sns.heatmap(df.corr(), annot=True, cmap='spring')"
   ]
  },
  {
   "cell_type": "markdown",
   "id": "b7e3a4f0",
   "metadata": {},
   "source": [
    "### 14. Display all the information about the videos that were published in January, and mention the count of videos that were published in January."
   ]
  },
  {
   "cell_type": "code",
   "execution_count": 48,
   "id": "5e21c97f",
   "metadata": {},
   "outputs": [
    {
     "data": {
      "text/plain": [
       "Index(['video_id', 'title', 'channel_id', 'channel_title', 'published_at',\n",
       "       'view_count', 'likes', 'dislikes', 'comment_count', 'tags',\n",
       "       'description', 'comments', 'published_month', 'dislike_rate'],\n",
       "      dtype='object')"
      ]
     },
     "execution_count": 48,
     "metadata": {},
     "output_type": "execute_result"
    }
   ],
   "source": [
    "df.columns"
   ]
  },
  {
   "cell_type": "code",
   "execution_count": 51,
   "id": "5ca88414",
   "metadata": {},
   "outputs": [
    {
     "data": {
      "text/html": [
       "<div>\n",
       "<style scoped>\n",
       "    .dataframe tbody tr th:only-of-type {\n",
       "        vertical-align: middle;\n",
       "    }\n",
       "\n",
       "    .dataframe tbody tr th {\n",
       "        vertical-align: top;\n",
       "    }\n",
       "\n",
       "    .dataframe thead th {\n",
       "        text-align: right;\n",
       "    }\n",
       "</style>\n",
       "<table border=\"1\" class=\"dataframe\">\n",
       "  <thead>\n",
       "    <tr style=\"text-align: right;\">\n",
       "      <th></th>\n",
       "      <th>video_id</th>\n",
       "      <th>title</th>\n",
       "      <th>channel_id</th>\n",
       "      <th>channel_title</th>\n",
       "      <th>published_at</th>\n",
       "      <th>view_count</th>\n",
       "      <th>likes</th>\n",
       "      <th>dislikes</th>\n",
       "      <th>comment_count</th>\n",
       "      <th>tags</th>\n",
       "      <th>description</th>\n",
       "      <th>comments</th>\n",
       "      <th>published_month</th>\n",
       "      <th>dislike_rate</th>\n",
       "    </tr>\n",
       "  </thead>\n",
       "  <tbody>\n",
       "    <tr>\n",
       "      <th>27</th>\n",
       "      <td>-2Gwm7QfBnE</td>\n",
       "      <td>Q&amp;A With Naisha</td>\n",
       "      <td>UCYwNMbogQFzMccPSuy-pPWg</td>\n",
       "      <td>MianTwins</td>\n",
       "      <td>2021-01-21 00:05:47</td>\n",
       "      <td>872372</td>\n",
       "      <td>38626</td>\n",
       "      <td>239</td>\n",
       "      <td>621</td>\n",
       "      <td></td>\n",
       "      <td>Hey Guys!!! this has been the most requested v...</td>\n",
       "      <td>I feel like Nate and Aishas personality match ...</td>\n",
       "      <td>Jan</td>\n",
       "      <td>0.027397</td>\n",
       "    </tr>\n",
       "    <tr>\n",
       "      <th>48</th>\n",
       "      <td>-4sfXSHSxzA</td>\n",
       "      <td>SURPRISING BRENT WITH HIS TIKTOK CRUSH!!</td>\n",
       "      <td>UCPpATKqmMV-CNRNWYaDUwiA</td>\n",
       "      <td>Alexa Rivera</td>\n",
       "      <td>2021-01-16 21:40:04</td>\n",
       "      <td>6504784</td>\n",
       "      <td>262477</td>\n",
       "      <td>5779</td>\n",
       "      <td>7907</td>\n",
       "      <td></td>\n",
       "      <td>He had no idea! Thank you guys so much for wat...</td>\n",
       "      <td>Thank you guys for watching and don't forget t...</td>\n",
       "      <td>Jan</td>\n",
       "      <td>0.088842</td>\n",
       "    </tr>\n",
       "    <tr>\n",
       "      <th>95</th>\n",
       "      <td>-AJD1Fc5rpQ</td>\n",
       "      <td>WE ARE HAVING A BABY! | finding out i'm pregna...</td>\n",
       "      <td>UCVsTboAhpnuL6j-tDePvNwQ</td>\n",
       "      <td>Tess Christine</td>\n",
       "      <td>2021-01-03 21:53:48</td>\n",
       "      <td>533084</td>\n",
       "      <td>38965</td>\n",
       "      <td>119</td>\n",
       "      <td>1650</td>\n",
       "      <td></td>\n",
       "      <td>I am so happy to tell you that I am pregnant!!...</td>\n",
       "      <td>Okay I needed a moment to collect my thoughts ...</td>\n",
       "      <td>Jan</td>\n",
       "      <td>0.022323</td>\n",
       "    </tr>\n",
       "    <tr>\n",
       "      <th>103</th>\n",
       "      <td>-AuJiwjsmWk</td>\n",
       "      <td>Do Ugly Foods Taste Worse? Taste Test</td>\n",
       "      <td>UCzpCc5n9hqiVC7HhPwcIKEg</td>\n",
       "      <td>Good Mythical MORE</td>\n",
       "      <td>2021-01-19 11:00:01</td>\n",
       "      <td>1057077</td>\n",
       "      <td>22526</td>\n",
       "      <td>531</td>\n",
       "      <td>773</td>\n",
       "      <td>gmm good mythical morning rhettandlink rhett a...</td>\n",
       "      <td>Today, we're doing a blind taste test to deter...</td>\n",
       "      <td>\"there's nothing wrong with it being bent\"\\nI ...</td>\n",
       "      <td>Jan</td>\n",
       "      <td>0.050233</td>\n",
       "    </tr>\n",
       "    <tr>\n",
       "      <th>182</th>\n",
       "      <td>-JhqO2KWr5U</td>\n",
       "      <td>Schlatt gets fit</td>\n",
       "      <td>UCWZp4y1jqBuvLtiyxSs_ZBw</td>\n",
       "      <td>Big guy</td>\n",
       "      <td>2021-01-24 22:50:57</td>\n",
       "      <td>1724965</td>\n",
       "      <td>119431</td>\n",
       "      <td>325</td>\n",
       "      <td>1578</td>\n",
       "      <td>jschlatt big guy jschlatt highlights schlatt j...</td>\n",
       "      <td>#jschlatt #schlatt #bigguy #short</td>\n",
       "      <td>Schlatt is single handedly wiping out all the ...</td>\n",
       "      <td>Jan</td>\n",
       "      <td>0.018841</td>\n",
       "    </tr>\n",
       "    <tr>\n",
       "      <th>...</th>\n",
       "      <td>...</td>\n",
       "      <td>...</td>\n",
       "      <td>...</td>\n",
       "      <td>...</td>\n",
       "      <td>...</td>\n",
       "      <td>...</td>\n",
       "      <td>...</td>\n",
       "      <td>...</td>\n",
       "      <td>...</td>\n",
       "      <td>...</td>\n",
       "      <td>...</td>\n",
       "      <td>...</td>\n",
       "      <td>...</td>\n",
       "      <td>...</td>\n",
       "    </tr>\n",
       "    <tr>\n",
       "      <th>37300</th>\n",
       "      <td>zmzFL5bG-jc</td>\n",
       "      <td>DEVINE MON PERSONNAGE AVANT AKINATOR ! (c'est ...</td>\n",
       "      <td>UCIlr3byh6wmXgcPx_Tm9Ocw</td>\n",
       "      <td>Piwerre</td>\n",
       "      <td>2021-01-16 16:12:19</td>\n",
       "      <td>670357</td>\n",
       "      <td>54462</td>\n",
       "      <td>832</td>\n",
       "      <td>1249</td>\n",
       "      <td>Piwerre frere de michou crouton among us devin...</td>\n",
       "      <td>Discord Piwerre : https://discord.gg/QBduPgAA...</td>\n",
       "      <td>Mdr michou quand c'est pas ses tournage il fou...</td>\n",
       "      <td>Jan</td>\n",
       "      <td>0.124113</td>\n",
       "    </tr>\n",
       "    <tr>\n",
       "      <th>37329</th>\n",
       "      <td>zpzjex7qwrA</td>\n",
       "      <td>Lampard Sacked Within Days Rorys Misery | Chel...</td>\n",
       "      <td>UCkD-ZOixI0a9FjIExDsHsbg</td>\n",
       "      <td>The Kick Off</td>\n",
       "      <td>2021-01-03 20:13:49</td>\n",
       "      <td>428646</td>\n",
       "      <td>12060</td>\n",
       "      <td>296</td>\n",
       "      <td>1505</td>\n",
       "      <td>Premier league Chelsea chelsea 1-3 Man City Ch...</td>\n",
       "      <td>The Kick Off watched Manchester City destroy C...</td>\n",
       "      <td>True Its like a fighter who Geordie But I thou...</td>\n",
       "      <td>Jan</td>\n",
       "      <td>0.069055</td>\n",
       "    </tr>\n",
       "    <tr>\n",
       "      <th>37345</th>\n",
       "      <td>zqyv-B6mnBM</td>\n",
       "      <td>Lil Wayne - Ain't Got Time (Audio)</td>\n",
       "      <td>UCO9zJy7HWrIS3ojB4Lr7Yqw</td>\n",
       "      <td>Lil Wayne</td>\n",
       "      <td>2021-01-21 05:00:10</td>\n",
       "      <td>2238244</td>\n",
       "      <td>58925</td>\n",
       "      <td>2365</td>\n",
       "      <td>5539</td>\n",
       "      <td>lil wayne weezy weezy wednesday wayne carter y...</td>\n",
       "      <td>Official audio for Lil Wayne \"Ain't Got Time\",...</td>\n",
       "      <td>RIP Juice Wrld, wrote that on two cups, pour o...</td>\n",
       "      <td>Jan</td>\n",
       "      <td>0.105663</td>\n",
       "    </tr>\n",
       "    <tr>\n",
       "      <th>37383</th>\n",
       "      <td>zwfu1-24T7Q</td>\n",
       "      <td>PRADA Cup Day 1 | Full Race Replay | PRADA Cup...</td>\n",
       "      <td>UCo15ZYO_XDRU9LI30OPtxAg</td>\n",
       "      <td>America's Cup</td>\n",
       "      <td>2021-01-15 04:07:55</td>\n",
       "      <td>317382</td>\n",
       "      <td>2008</td>\n",
       "      <td>83</td>\n",
       "      <td>192</td>\n",
       "      <td>America's Cup Americas Cup AC36 AC75 Presented...</td>\n",
       "      <td>The opening day of the PRADA Cup in Auckland, ...</td>\n",
       "      <td>Incredible how these boats evolve in a short t...</td>\n",
       "      <td>Jan</td>\n",
       "      <td>0.026151</td>\n",
       "    </tr>\n",
       "    <tr>\n",
       "      <th>37418</th>\n",
       "      <td>zziBybeSAtw</td>\n",
       "      <td>PELICANS at LAKERS | FULL GAME HIGHLIGHTS | Ja...</td>\n",
       "      <td>UCWJ2lWNubArHWmf3FIHbfcQ</td>\n",
       "      <td>NBA</td>\n",
       "      <td>2021-01-16 05:39:05</td>\n",
       "      <td>2841917</td>\n",
       "      <td>20759</td>\n",
       "      <td>1049</td>\n",
       "      <td>2624</td>\n",
       "      <td>NBA G League Basketball game-0022000187 Lakers...</td>\n",
       "      <td>PELICANS at LAKERS | FULL GAME HIGHLIGHTS | Ja...</td>\n",
       "      <td>Montrezl Harrell is going crazy with the rebou...</td>\n",
       "      <td>Jan</td>\n",
       "      <td>0.036912</td>\n",
       "    </tr>\n",
       "  </tbody>\n",
       "</table>\n",
       "<p>2099 rows × 14 columns</p>\n",
       "</div>"
      ],
      "text/plain": [
       "          video_id                                              title  \\\n",
       "27     -2Gwm7QfBnE                                    Q&A With Naisha   \n",
       "48     -4sfXSHSxzA           SURPRISING BRENT WITH HIS TIKTOK CRUSH!!   \n",
       "95     -AJD1Fc5rpQ  WE ARE HAVING A BABY! | finding out i'm pregna...   \n",
       "103    -AuJiwjsmWk              Do Ugly Foods Taste Worse? Taste Test   \n",
       "182    -JhqO2KWr5U                                   Schlatt gets fit   \n",
       "...            ...                                                ...   \n",
       "37300  zmzFL5bG-jc  DEVINE MON PERSONNAGE AVANT AKINATOR ! (c'est ...   \n",
       "37329  zpzjex7qwrA  Lampard Sacked Within Days Rorys Misery | Chel...   \n",
       "37345  zqyv-B6mnBM                 Lil Wayne - Ain't Got Time (Audio)   \n",
       "37383  zwfu1-24T7Q  PRADA Cup Day 1 | Full Race Replay | PRADA Cup...   \n",
       "37418  zziBybeSAtw  PELICANS at LAKERS | FULL GAME HIGHLIGHTS | Ja...   \n",
       "\n",
       "                     channel_id       channel_title         published_at  \\\n",
       "27     UCYwNMbogQFzMccPSuy-pPWg           MianTwins  2021-01-21 00:05:47   \n",
       "48     UCPpATKqmMV-CNRNWYaDUwiA        Alexa Rivera  2021-01-16 21:40:04   \n",
       "95     UCVsTboAhpnuL6j-tDePvNwQ      Tess Christine  2021-01-03 21:53:48   \n",
       "103    UCzpCc5n9hqiVC7HhPwcIKEg  Good Mythical MORE  2021-01-19 11:00:01   \n",
       "182    UCWZp4y1jqBuvLtiyxSs_ZBw             Big guy  2021-01-24 22:50:57   \n",
       "...                         ...                 ...                  ...   \n",
       "37300  UCIlr3byh6wmXgcPx_Tm9Ocw             Piwerre  2021-01-16 16:12:19   \n",
       "37329  UCkD-ZOixI0a9FjIExDsHsbg        The Kick Off  2021-01-03 20:13:49   \n",
       "37345  UCO9zJy7HWrIS3ojB4Lr7Yqw           Lil Wayne  2021-01-21 05:00:10   \n",
       "37383  UCo15ZYO_XDRU9LI30OPtxAg       America's Cup  2021-01-15 04:07:55   \n",
       "37418  UCWJ2lWNubArHWmf3FIHbfcQ                 NBA  2021-01-16 05:39:05   \n",
       "\n",
       "       view_count   likes  dislikes  comment_count  \\\n",
       "27         872372   38626       239            621   \n",
       "48        6504784  262477      5779           7907   \n",
       "95         533084   38965       119           1650   \n",
       "103       1057077   22526       531            773   \n",
       "182       1724965  119431       325           1578   \n",
       "...           ...     ...       ...            ...   \n",
       "37300      670357   54462       832           1249   \n",
       "37329      428646   12060       296           1505   \n",
       "37345     2238244   58925      2365           5539   \n",
       "37383      317382    2008        83            192   \n",
       "37418     2841917   20759      1049           2624   \n",
       "\n",
       "                                                    tags  \\\n",
       "27                                                         \n",
       "48                                                         \n",
       "95                                                         \n",
       "103    gmm good mythical morning rhettandlink rhett a...   \n",
       "182    jschlatt big guy jschlatt highlights schlatt j...   \n",
       "...                                                  ...   \n",
       "37300  Piwerre frere de michou crouton among us devin...   \n",
       "37329  Premier league Chelsea chelsea 1-3 Man City Ch...   \n",
       "37345  lil wayne weezy weezy wednesday wayne carter y...   \n",
       "37383  America's Cup Americas Cup AC36 AC75 Presented...   \n",
       "37418  NBA G League Basketball game-0022000187 Lakers...   \n",
       "\n",
       "                                             description  \\\n",
       "27     Hey Guys!!! this has been the most requested v...   \n",
       "48     He had no idea! Thank you guys so much for wat...   \n",
       "95     I am so happy to tell you that I am pregnant!!...   \n",
       "103    Today, we're doing a blind taste test to deter...   \n",
       "182                    #jschlatt #schlatt #bigguy #short   \n",
       "...                                                  ...   \n",
       "37300   Discord Piwerre : https://discord.gg/QBduPgAA...   \n",
       "37329  The Kick Off watched Manchester City destroy C...   \n",
       "37345  Official audio for Lil Wayne \"Ain't Got Time\",...   \n",
       "37383  The opening day of the PRADA Cup in Auckland, ...   \n",
       "37418  PELICANS at LAKERS | FULL GAME HIGHLIGHTS | Ja...   \n",
       "\n",
       "                                                comments published_month  \\\n",
       "27     I feel like Nate and Aishas personality match ...             Jan   \n",
       "48     Thank you guys for watching and don't forget t...             Jan   \n",
       "95     Okay I needed a moment to collect my thoughts ...             Jan   \n",
       "103    \"there's nothing wrong with it being bent\"\\nI ...             Jan   \n",
       "182    Schlatt is single handedly wiping out all the ...             Jan   \n",
       "...                                                  ...             ...   \n",
       "37300  Mdr michou quand c'est pas ses tournage il fou...             Jan   \n",
       "37329  True Its like a fighter who Geordie But I thou...             Jan   \n",
       "37345  RIP Juice Wrld, wrote that on two cups, pour o...             Jan   \n",
       "37383  Incredible how these boats evolve in a short t...             Jan   \n",
       "37418  Montrezl Harrell is going crazy with the rebou...             Jan   \n",
       "\n",
       "       dislike_rate  \n",
       "27         0.027397  \n",
       "48         0.088842  \n",
       "95         0.022323  \n",
       "103        0.050233  \n",
       "182        0.018841  \n",
       "...             ...  \n",
       "37300      0.124113  \n",
       "37329      0.069055  \n",
       "37345      0.105663  \n",
       "37383      0.026151  \n",
       "37418      0.036912  \n",
       "\n",
       "[2099 rows x 14 columns]"
      ]
     },
     "execution_count": 51,
     "metadata": {},
     "output_type": "execute_result"
    }
   ],
   "source": [
    "df[df['published_month']=='Jan']"
   ]
  },
  {
   "cell_type": "code",
   "execution_count": 53,
   "id": "38c69d83",
   "metadata": {},
   "outputs": [
    {
     "data": {
      "text/plain": [
       "video_id           2099\n",
       "title              2099\n",
       "channel_id         2099\n",
       "channel_title      2099\n",
       "published_at       2099\n",
       "view_count         2099\n",
       "likes              2099\n",
       "dislikes           2099\n",
       "comment_count      2099\n",
       "tags               2099\n",
       "description        2099\n",
       "comments           2099\n",
       "published_month    2099\n",
       "dislike_rate       2099\n",
       "dtype: int64"
      ]
     },
     "execution_count": 53,
     "metadata": {},
     "output_type": "execute_result"
    }
   ],
   "source": [
    "df[df['published_month']=='Jan'].count()"
   ]
  },
  {
   "cell_type": "code",
   "execution_count": null,
   "id": "64bbf9f2",
   "metadata": {},
   "outputs": [],
   "source": []
  }
 ],
 "metadata": {
  "kernelspec": {
   "display_name": "Python 3 (ipykernel)",
   "language": "python",
   "name": "python3"
  },
  "language_info": {
   "codemirror_mode": {
    "name": "ipython",
    "version": 3
   },
   "file_extension": ".py",
   "mimetype": "text/x-python",
   "name": "python",
   "nbconvert_exporter": "python",
   "pygments_lexer": "ipython3",
   "version": "3.11.4"
  }
 },
 "nbformat": 4,
 "nbformat_minor": 5
}
